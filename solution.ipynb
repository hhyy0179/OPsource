{
 "cells": [
  {
   "cell_type": "code",
   "execution_count": 7,
   "id": "adfe32d5",
   "metadata": {},
   "outputs": [
    {
     "name": "stdout",
     "output_type": "stream",
     "text": [
      "( 1 , 2 )\n",
      "( 3 , 4 )\n"
     ]
    },
    {
     "ename": "AttributeError",
     "evalue": "'NoneType' object has no attribute 'show'",
     "output_type": "error",
     "traceback": [
      "\u001b[0;31m---------------------------------------------------------------------------\u001b[0m",
      "\u001b[0;31mAttributeError\u001b[0m                            Traceback (most recent call last)",
      "\u001b[0;32m<ipython-input-7-48e8e7378a20>\u001b[0m in \u001b[0;36m<module>\u001b[0;34m\u001b[0m\n\u001b[1;32m     20\u001b[0m \u001b[0;34m\u001b[0m\u001b[0m\n\u001b[1;32m     21\u001b[0m \u001b[0ma\u001b[0m \u001b[0;34m=\u001b[0m \u001b[0ma\u001b[0m\u001b[0;34m+\u001b[0m\u001b[0mb\u001b[0m\u001b[0;34m\u001b[0m\u001b[0;34m\u001b[0m\u001b[0m\n\u001b[0;32m---> 22\u001b[0;31m \u001b[0ma\u001b[0m\u001b[0;34m.\u001b[0m\u001b[0mshow\u001b[0m\u001b[0;34m(\u001b[0m\u001b[0;34m)\u001b[0m\u001b[0;34m\u001b[0m\u001b[0;34m\u001b[0m\u001b[0m\n\u001b[0m",
      "\u001b[0;31mAttributeError\u001b[0m: 'NoneType' object has no attribute 'show'"
     ]
    }
   ],
   "source": [
    "class Point:\n",
    "    num1=''\n",
    "    num2=''\n",
    "    def __init__(self,a,b):\n",
    "        self.num1 = a\n",
    "        self.num2 = b\n",
    "    \n",
    "    def show(self):\n",
    "        print ('(',self.num1,',',self.num2,')')\n",
    "    \n",
    "    def __add__(self,other):\n",
    "        self.num1 = self.num1 + other.num1\n",
    "        self.num2 = self.num2 + other.num2\n",
    "        \n",
    "a = Point(1,2)\n",
    "a.show()\n",
    "\n",
    "b= Point(3,4)\n",
    "b.show()\n",
    "\n",
    "a+b\n",
    "a+.show()\n"
   ]
  },
  {
   "cell_type": "code",
   "execution_count": 18,
   "id": "173dbab7",
   "metadata": {},
   "outputs": [
    {
     "ename": "IndentationError",
     "evalue": "unexpected indent (<ipython-input-18-d79760fae85c>, line 2)",
     "output_type": "error",
     "traceback": [
      "\u001b[0;36m  File \u001b[0;32m\"<ipython-input-18-d79760fae85c>\"\u001b[0;36m, line \u001b[0;32m2\u001b[0m\n\u001b[0;31m    f = open('seoul.csv','r',encodind = 'UTF8')\u001b[0m\n\u001b[0m    ^\u001b[0m\n\u001b[0;31mIndentationError\u001b[0m\u001b[0;31m:\u001b[0m unexpected indent\n"
     ]
    }
   ],
   "source": [
    "import csv\n",
    "    f = open('seoul.csv','r',encodind = 'UTF8')\n",
    "    data = csv.reader(f)\n",
    "    header = next(data)\n",
    "    \n",
    "    \n",
    "    max_temp = -999\n",
    "    max_data = ''\n",
    "    \n",
    "    min_temp = -999\n",
    "    min_data = ''\n",
    "    \n",
    "    diff_temp = ''\n",
    "    \n",
    "    for row in data :\n",
    "        if row[-1] == '':\n",
    "            row[-1] = -999\n",
    "        row[-1] = float(row[-1])\n",
    "        \n",
    "        if max_temp < row[-1] :\n",
    "            max_data = row[0]\n",
    "            max_temp = row[-1]\n",
    "            \n",
    "        if row[-2] == '':\n",
    "            row[-2] = -999\n",
    "        row[-2] = float(row[-1])\n",
    "        if min_temp > row[-2] :\n",
    "            min_data = row[0]\n",
    "            min_temp = row[-2]\n",
    "            \n",
    "        diff_temp = row[-1] - row[-2]\n",
    "        diff_data = \n",
    "        \n",
    "    f.close()\n",
    "    \n",
    "    print('Max week :',)\n",
    "        \n",
    "        "
   ]
  },
  {
   "cell_type": "code",
   "execution_count": null,
   "id": "39b9811a",
   "metadata": {},
   "outputs": [],
   "source": []
  }
 ],
 "metadata": {
  "kernelspec": {
   "display_name": "Python 3",
   "language": "python",
   "name": "python3"
  },
  "language_info": {
   "codemirror_mode": {
    "name": "ipython",
    "version": 3
   },
   "file_extension": ".py",
   "mimetype": "text/x-python",
   "name": "python",
   "nbconvert_exporter": "python",
   "pygments_lexer": "ipython3",
   "version": "3.8.8"
  }
 },
 "nbformat": 4,
 "nbformat_minor": 5
}
