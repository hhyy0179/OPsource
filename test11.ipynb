{
 "cells": [
  {
   "cell_type": "code",
   "execution_count": 24,
   "id": "4deb1af3",
   "metadata": {},
   "outputs": [],
   "source": [
    "file1=open(\"file1.txt\",'w')\n",
    "for i in range(1,11):\n",
    "    data=\"{0} line.\\n\".format(i)\n",
    "    file1.write(data)\n",
    "file1.close()"
   ]
  },
  {
   "cell_type": "code",
   "execution_count": 25,
   "id": "d649dc6a",
   "metadata": {},
   "outputs": [
    {
     "name": "stdout",
     "output_type": "stream",
     "text": [
      "cp file1 file2\n"
     ]
    }
   ],
   "source": [
    "def copy(original_name, copy_name):\n",
    "    original_file = open(original_name+\".txt\", 'r')\n",
    "    copy_file = open(copy_name+\".txt\", 'w')\n",
    "    original_list=original_file.readlines()\n",
    "    \n",
    "    #copy_file.writelines(original_list)\n",
    "    for line in original_list:\n",
    "        copy_file.write(line)\n",
    "        \n",
    "    original_file.close()\n",
    "    copy_file.close()\n",
    "\n",
    "userinput=input().split(\" \")\n",
    "if userinput[0]==\"cp\":\n",
    "    copy(userinput[1], userinput[2])"
   ]
  },
  {
   "cell_type": "code",
   "execution_count": 9,
   "id": "b1d748ae",
   "metadata": {},
   "outputs": [
    {
     "name": "stdout",
     "output_type": "stream",
     "text": [
      "wc file2\n",
      "# of lines: 10\n",
      "# of words: 20\n"
     ]
    }
   ],
   "source": [
    "def wc(file_name):\n",
    "    file = open(file_name + \".txt\", 'r')\n",
    "    lines = file.readlines()\n",
    "    numlines = len(lines)\n",
    "    numwords = 0\n",
    "    for line in lines:\n",
    "        wordlist=line.split(\" \")\n",
    "        numwords+=len(wordlist)\n",
    "    print(\"# of lines:\", numlines)\n",
    "    print(\"# of words:\", numwords)\n",
    "    \n",
    "    file.close()\n",
    "    \n",
    "userinput=input().split(\" \")\n",
    "if userinput[0] == \"wc\":\n",
    "    wc(userinput[1])"
   ]
  },
  {
   "cell_type": "code",
   "execution_count": 27,
   "id": "ad2104e3",
   "metadata": {},
   "outputs": [
    {
     "name": "stdout",
     "output_type": "stream",
     "text": [
      "1 + 2 = 3 입니다.\n",
      "5 - 1 = 4 입니다.\n",
      "2 * 3 = 6 입니다.\n",
      "6 / 2 = 3 입니다.\n"
     ]
    }
   ],
   "source": [
    "class Calc:\n",
    "    def sum(self,a,b):\n",
    "        result = a + b\n",
    "        print(\"{0} + {1} = {2} 입니다.\".format(a,b,result))\n",
    "    def sub(self,a,b):\n",
    "        result = a - b\n",
    "        print(\"{0} - {1} = {2} 입니다.\".format(a,b,result))\n",
    "    def multi(self,a,b):\n",
    "        result = a * b\n",
    "        print(\"{0} * {1} = {2} 입니다.\".format(a,b,result))\n",
    "    def divi(self,a,b):\n",
    "        result = a / b\n",
    "        print(\"{0} / {1} = {2} 입니다.\".format(a,b,int(result)))\n",
    "        \n",
    "# import 과정 생략\n",
    "calc = Calc()\n",
    "calc.sum(1,2)\n",
    "calc.sub(5,1)\n",
    "calc.multi(2,3)\n",
    "calc.divi(6,2)"
   ]
  },
  {
   "cell_type": "code",
   "execution_count": 31,
   "id": "bd3e5b60",
   "metadata": {},
   "outputs": [
    {
     "name": "stdout",
     "output_type": "stream",
     "text": [
      "1 + 2 * 3 - 4 + 5\n",
      "1+2*3-4+5=8\n"
     ]
    }
   ],
   "source": [
    "num = []\n",
    "op = []\n",
    "formula = input().split()\n",
    "for i in formula:\n",
    "    if ('0' <= i <= '9'):\n",
    "        num.append(int(i))                   \n",
    "        if len(op) and (op[-1] == '*'):\n",
    "            secondNum = num.pop()\n",
    "            firstNum = num.pop()\n",
    "            num.append(firstNum*secondNum)\n",
    "            op.pop()\n",
    "        elif len(op) and (op[-1] == '/'):\n",
    "            secondNum = num.pop()\n",
    "            firstNum = num.pop()\n",
    "            num.append(firstNum/secondNum)\n",
    "            op.pop()\n",
    "    else:\n",
    "        op.append(i)\n",
    "result = 0\n",
    "while len(op) and len(num):\n",
    "    firstNum = num[0]\n",
    "    secondNum = num[1]\n",
    "    c = op[0]\n",
    "    del num[0]\n",
    "    del num[0]\n",
    "    del op[0]\n",
    "    if (c == '+'):\n",
    "        num.insert(0,firstNum+secondNum)\n",
    "    elif (c == '-'):\n",
    "        num.insert(0,firstNum-secondNum)  \n",
    "\n",
    "for i in formula:\n",
    "    print(i,end='')\n",
    "print('={0}'.format(num[0]))"
   ]
  }
 ],
 "metadata": {
  "kernelspec": {
   "display_name": "Python 3",
   "language": "python",
   "name": "python3"
  },
  "language_info": {
   "codemirror_mode": {
    "name": "ipython",
    "version": 3
   },
   "file_extension": ".py",
   "mimetype": "text/x-python",
   "name": "python",
   "nbconvert_exporter": "python",
   "pygments_lexer": "ipython3",
   "version": "3.8.8"
  }
 },
 "nbformat": 4,
 "nbformat_minor": 5
}
