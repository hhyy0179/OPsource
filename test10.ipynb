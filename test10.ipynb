{
 "cells": [
  {
   "cell_type": "code",
   "execution_count": 1,
   "id": "370a4721",
   "metadata": {},
   "outputs": [
    {
     "name": "stdout",
     "output_type": "stream",
     "text": [
      "Numbers? 20 67 17 78\n",
      "Max =  78\n"
     ]
    }
   ],
   "source": [
    "#실습2\n",
    "numstr=(input(\"Numbers? \")).strip()\n",
    "numlist=numstr.split()\n",
    "for i, num in enumerate(numlist):\n",
    "    numlist[i]=int(num)\n",
    "print(\"Max = \", max(numlist))"
   ]
  },
  {
   "cell_type": "code",
   "execution_count": 3,
   "id": "43bb82cb",
   "metadata": {},
   "outputs": [
    {
     "name": "stdout",
     "output_type": "stream",
     "text": [
      "encryption: 1, decryption: 2, quit: 3\n",
      "menu? 1\n",
      "enter the string: addd\n",
      "beee \n",
      "encryption: 1, decryption: 2, quit: 3\n",
      "menu? 0\n",
      "Invalid input\n",
      "encryption: 1, decryption: 2, quit: 3\n",
      "menu? 2\n",
      "enter the string: arff\n",
      "`qee\n",
      "encryption: 1, decryption: 2, quit: 3\n",
      "menu? 3\n"
     ]
    }
   ],
   "source": [
    "#실습3\n",
    "def make_input_list():\n",
    "    input_list=input(\"enter the string: \").strip().split()\n",
    "    return input_list\n",
    "\n",
    "def edit_ASCII(input_list, increase):\n",
    "    result_str=\"\"\n",
    "    for substring in input_list:\n",
    "        for char in substring:\n",
    "            result_str+=chr(ord(char)+increase)\n",
    "        result_str+=\" \"\n",
    "    return result_str\n",
    "\n",
    "if __name__==\"__main__\":\n",
    "    while(True):\n",
    "        print(\"encryption: 1, decryption: 2, quit: 3\")\n",
    "        menu=input(\"menu? \") #int형 외의 것이 들어왔을 때 예외처리 위해 문자열 그대로 받음\n",
    "        if menu=='1':\n",
    "            input_list=make_input_list()\n",
    "            input_list.reverse()\n",
    "            print(edit_ASCII(input_list, 1))\n",
    "        elif menu=='2':\n",
    "            input_list=make_input_list()\n",
    "            result_list=edit_ASCII(input_list, -1).split()\n",
    "            result_list.reverse()\n",
    "            print(\" \".join(result_list))\n",
    "        elif menu=='3': break\n",
    "        else:\n",
    "            print(\"Invalid input\")"
   ]
  },
  {
   "cell_type": "code",
   "execution_count": 4,
   "id": "e7f8a84a",
   "metadata": {},
   "outputs": [
    {
     "name": "stdout",
     "output_type": "stream",
     "text": [
      "input 10 people's name and phonenumber: a 1 b 2 c 3 d 4 e 5 f 6 g 7 h 8 i 9 j 1\n",
      "name search: 1, phone number search: 2, quit: 3\n",
      "menu? 1\n",
      "name? a\n",
      "1\n",
      "name search: 1, phone number search: 2, quit: 3\n",
      "menu? 1\n",
      "name? c\n",
      "3\n",
      "name search: 1, phone number search: 2, quit: 3\n",
      "menu? 3\n"
     ]
    }
   ],
   "source": [
    "#실습4\n",
    "phone_dict=dict()\n",
    "input_list=input(\"input 10 people's name and phonenumber: \").strip().split()\n",
    "#input example: a 1 b 2 c 3 d 4 e 5 f 6 g 7 h 8 i 9 j 10\n",
    "\n",
    "for i in range(0, 20, 2):\n",
    "    name=input_list[i]\n",
    "    phone_num=input_list[i+1]\n",
    "    phone_dict[name]=phone_num\n",
    "\n",
    "while(True):\n",
    "    print(\"name search: 1, phone number search: 2, quit: 3\")\n",
    "    menu=input(\"menu? \") #int형 외의 것이 들어왔을 때 예외처리 위해 문자열 그대로 받음\n",
    "    if menu=='1':\n",
    "        search_name=input(\"name? \")\n",
    "        if search_name in phone_dict:\n",
    "            print(phone_dict[search_name])\n",
    "        else:\n",
    "            print(\"search results not found\")\n",
    "    elif menu=='2':\n",
    "        search_num=input(\"phone number? \")\n",
    "        is_number_exist = False\n",
    "        for name, phone_num in phone_dict.items():\n",
    "            if phone_num == search_num:\n",
    "                print(name)\n",
    "                is_number_exist=True\n",
    "        if not is_number_exist: print(\"search results not found\")\n",
    "    elif menu=='3': break\n",
    "    else:\n",
    "        print(\"Invalid input\")"
   ]
  },
  {
   "cell_type": "code",
   "execution_count": null,
   "id": "83afc9e4",
   "metadata": {},
   "outputs": [],
   "source": []
  }
 ],
 "metadata": {
  "kernelspec": {
   "display_name": "Python 3",
   "language": "python",
   "name": "python3"
  },
  "language_info": {
   "codemirror_mode": {
    "name": "ipython",
    "version": 3
   },
   "file_extension": ".py",
   "mimetype": "text/x-python",
   "name": "python",
   "nbconvert_exporter": "python",
   "pygments_lexer": "ipython3",
   "version": "3.8.8"
  }
 },
 "nbformat": 4,
 "nbformat_minor": 5
}
